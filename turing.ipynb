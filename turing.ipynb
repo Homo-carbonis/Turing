{
 "cells": [
  {
   "cell_type": "markdown",
   "id": "f29b2a2389399b54",
   "metadata": {},
   "source": []
  },
  {
   "cell_type": "markdown",
   "id": "6db97811f6481b74",
   "metadata": {},
   "source": [
    "# A computational companion to Alan Turing's paper *On the Chemical Basis of Morphogenesis* (1952)\n"
   ]
  },
  {
   "cell_type": "code",
   "id": "initial_id",
   "metadata": {
    "ExecuteTime": {
     "end_time": "2024-10-27T19:34:55.583392Z",
     "start_time": "2024-10-27T19:34:55.579064Z"
    }
   },
   "source": [
    "import numpy as np\n",
    "from sympy import *\n",
    "from scipy.integrate import solve_ivp\n",
    "import matplotlib.pyplot as plt\n",
    "from ipywidgets import interactive\n",
    "import ipywidgets as widgets"
   ],
   "outputs": [],
   "execution_count": 9
  },
  {
   "cell_type": "markdown",
   "id": "46a5efa9d522c35",
   "metadata": {},
   "source": [
    "# 3. Chemical Reaction\n",
    "Suppose the reaction\n",
    "$ A \\rightarrow B $\n",
    "is catalysed by G so we have\n",
    "$ A + G \\rightleftharpoons C \\rightarrow B + G $\n",
    "\n",
    "By the law of mass action,\n",
    "\n",
    "$\\begin{align}\n",
    "    \\frac{d[A]}{dt} &= -k_1[A][G] + k_2[C] \\\\\n",
    "    \\frac{d[B]}{dt} &= k_3[C] \\\\\n",
    "    \\frac{d[G]}{dt} &= -k_1[A][G] + k_2[C] + k_3[C] \\\\\n",
    "    \\frac{d[C]}{dt} &= k_1[A][G]-k_2[C] -k_3[C]\n",
    "\\end{align}$\n",
    "\n",
    "\n",
    "reaction graph diagram here\n",
    "\n",
    "Turing points out we can simplify these kinetics if $k_3$ is small, so $ C \\rightarrow B + G $ is much slower than $A + G \\rightleftharpoons C$.\n",
    "In that case we have an approximate equilibrium where \n",
    "$\\frac{d[A]}{dt} \\approx \\frac{d[G]}{dt} \\approx 0 \\approx -k_1[A][G] + k_2[C]$\n",
    "\n",
    "so\n",
    "$[A][G] \\approx \\frac{k_2}{k_1}[C]$\n",
    "\n",
    "and $\\frac{d[B]}{dt} = k_3[C] \\approx \\frac{k_1 k_3}{k_2}[A][G] $ \n",
    "\n",
    "The interactive plot below allows you to experiment with altering the parameters and initial concentrations of this system. Notice..."
   ]
  },
  {
   "cell_type": "code",
   "id": "cecc3e137be831a6",
   "metadata": {
    "ExecuteTime": {
     "end_time": "2024-10-27T19:32:50.959553Z",
     "start_time": "2024-10-27T19:32:50.889381Z"
    }
   },
   "source": [
    "def plot(k1,k2,k3,A0,G0):\n",
    "    def sys(t, y):\n",
    "        A, B, G, C = y\n",
    "        diffA = -k1 * A * G + k2 * C\n",
    "        diffB = k3 * C\n",
    "        diffG = diffA + diffB\n",
    "        diffC = -diffG\n",
    "        return np.array([diffA, diffB, diffG, diffC])\n",
    "    sol = solve_ivp(sys, (0, 50), (A0, 0, G0, 0), dense_output=True).sol\n",
    "    t=np.linspace(sol.t_max,sol.t_min,50)\n",
    "    y=sol(t)\n",
    "    plt.plot(t,y[0], 'r-')\n",
    "    plt.plot(t,y[1], 'b-')\n",
    "    plt.plot(t,y[2], 'y--')\n",
    "    plt.plot(t,y[3], color='orange', linestyle='--')\n",
    "    plt.legend(('A: reactant', 'B: product', 'G: catalyst', 'C: intermediate'))\n",
    "    plt.xlabel('Time')\n",
    "    plt.ylabel('Concentration')\n",
    "    plt.ylim(0,1)\n",
    "    \n",
    "k1_slider = widgets.FloatSlider(description='$k_1$', max=10)\n",
    "k2_slider = widgets.FloatSlider(description='$k_2$', max=10)\n",
    "k3_slider = widgets.FloatSlider(description='$k_3$', max=10)\n",
    "A0_slider = widgets.FloatSlider(description='$[A]_0$', max=1, step=0.01)\n",
    "G0_slider = widgets.FloatSlider(description='$[G]_0$', max=1, step=0.01)\n",
    "plt.close()\n",
    "interactive_plot=interactive(plot, k1=k1_slider, k2=k2_slider, k3=k3_slider, A0=A0_slider, G0=G0_slider)\n",
    "output = interactive_plot.children[-1]\n",
    "output.layout.height = '450px'\n",
    "interactive_plot\n"
   ],
   "outputs": [
    {
     "data": {
      "text/plain": [
       "interactive(children=(FloatSlider(value=0.0, description='$k_1$', max=10.0), FloatSlider(value=0.0, descriptio…"
      ],
      "application/vnd.jupyter.widget-view+json": {
       "version_major": 2,
       "version_minor": 0,
       "model_id": "789263f105cb46eeb866a11196c29608"
      }
     },
     "execution_count": 8,
     "metadata": {},
     "output_type": "execute_result"
    }
   ],
   "execution_count": 8
  },
  {
   "cell_type": "markdown",
   "id": "a45348577904830c",
   "metadata": {},
   "source": [
    "## 4. The breakdown of symmetry and homogeneity\n",
    "dx = 5*X + 6*Y + 1"
   ]
  },
  {
   "cell_type": "code",
   "id": "d877c8c260328849",
   "metadata": {
    "ExecuteTime": {
     "end_time": "2024-10-27T19:23:45.512396Z",
     "start_time": "2024-10-27T19:23:45.510937Z"
    }
   },
   "source": [
    "r = 1\n",
    "a=1; b=1; c=1; d=1\n",
    "mu = 1 ; nu = 1"
   ],
   "outputs": [],
   "execution_count": 3
  },
  {
   "cell_type": "markdown",
   "id": "556eac0f66b88efb",
   "metadata": {},
   "source": [
    "$(p-a + \\mu s^2 / r^2)(p-d+ \\nu s^2 / r^2) = bc$"
   ]
  },
  {
   "cell_type": "code",
   "id": "8a81483a1565691",
   "metadata": {
    "ExecuteTime": {
     "end_time": "2024-10-27T19:23:45.677849Z",
     "start_time": "2024-10-27T19:23:45.554700Z"
    }
   },
   "source": [
    "p,A,B = symbols('p A B')\n",
    "C=D=1\n",
    "for theta in range(0,2*pi):\n",
    "    for s in range(-100,100):\n",
    "        p0,p1=solveset((p-a+mu*s**2/r**2)*(p-d+nu*s**2/r**2) - b * c,p)\n",
    "        (As,Bs),=linsolve([A*(p0-a+mu*s**2/r**2) - b*C,\n",
    "                           B*(p1-a+mu*s**2/r**2) - b*D], A,B)\n",
    "        x = As * np.sum(exp(p0*t) + Bs*exp(p1*t)*exp(i*s*theta))"
   ],
   "outputs": [
    {
     "ename": "TypeError",
     "evalue": "'Mul' object cannot be interpreted as an integer",
     "output_type": "error",
     "traceback": [
      "\u001B[0;31m---------------------------------------------------------------------------\u001B[0m",
      "\u001B[0;31mTypeError\u001B[0m                                 Traceback (most recent call last)",
      "Cell \u001B[0;32mIn[4], line 3\u001B[0m\n\u001B[1;32m      1\u001B[0m p,A,B \u001B[38;5;241m=\u001B[39m symbols(\u001B[38;5;124m'\u001B[39m\u001B[38;5;124mp A B\u001B[39m\u001B[38;5;124m'\u001B[39m)\n\u001B[1;32m      2\u001B[0m C\u001B[38;5;241m=\u001B[39mD\u001B[38;5;241m=\u001B[39m\u001B[38;5;241m1\u001B[39m\n\u001B[0;32m----> 3\u001B[0m \u001B[38;5;28;01mfor\u001B[39;00m theta \u001B[38;5;129;01min\u001B[39;00m \u001B[38;5;28;43mrange\u001B[39;49m\u001B[43m(\u001B[49m\u001B[38;5;241;43m0\u001B[39;49m\u001B[43m,\u001B[49m\u001B[38;5;241;43m2\u001B[39;49m\u001B[38;5;241;43m*\u001B[39;49m\u001B[43mpi\u001B[49m\u001B[43m)\u001B[49m:\n\u001B[1;32m      4\u001B[0m     \u001B[38;5;28;01mfor\u001B[39;00m s \u001B[38;5;129;01min\u001B[39;00m \u001B[38;5;28mrange\u001B[39m(\u001B[38;5;241m-\u001B[39m\u001B[38;5;241m100\u001B[39m,\u001B[38;5;241m100\u001B[39m):\n\u001B[1;32m      5\u001B[0m         p0,p1\u001B[38;5;241m=\u001B[39msolveset((p\u001B[38;5;241m-\u001B[39ma\u001B[38;5;241m+\u001B[39mmu\u001B[38;5;241m*\u001B[39ms\u001B[38;5;241m*\u001B[39m\u001B[38;5;241m*\u001B[39m\u001B[38;5;241m2\u001B[39m\u001B[38;5;241m/\u001B[39mr\u001B[38;5;241m*\u001B[39m\u001B[38;5;241m*\u001B[39m\u001B[38;5;241m2\u001B[39m)\u001B[38;5;241m*\u001B[39m(p\u001B[38;5;241m-\u001B[39md\u001B[38;5;241m+\u001B[39mnu\u001B[38;5;241m*\u001B[39ms\u001B[38;5;241m*\u001B[39m\u001B[38;5;241m*\u001B[39m\u001B[38;5;241m2\u001B[39m\u001B[38;5;241m/\u001B[39mr\u001B[38;5;241m*\u001B[39m\u001B[38;5;241m*\u001B[39m\u001B[38;5;241m2\u001B[39m) \u001B[38;5;241m-\u001B[39m b \u001B[38;5;241m*\u001B[39m c,p)\n",
      "\u001B[0;31mTypeError\u001B[0m: 'Mul' object cannot be interpreted as an integer"
     ]
    }
   ],
   "execution_count": 4
  }
 ],
 "metadata": {
  "kernelspec": {
   "display_name": "Python 3 (ipykernel)",
   "language": "python",
   "name": "python3"
  },
  "language_info": {
   "codemirror_mode": {
    "name": "ipython",
    "version": 3
   },
   "file_extension": ".py",
   "mimetype": "text/x-python",
   "name": "python",
   "nbconvert_exporter": "python",
   "pygments_lexer": "ipython3",
   "version": "3.12.6"
  }
 },
 "nbformat": 4,
 "nbformat_minor": 5
}
