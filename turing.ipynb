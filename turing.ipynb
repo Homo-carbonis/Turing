{
 "cells": [
  {
   "metadata": {},
   "cell_type": "markdown",
   "source": "",
   "id": "f29b2a2389399b54"
  },
  {
   "metadata": {},
   "cell_type": "markdown",
   "source": "# A computational companion to Alan Turing's paper *On the Chemical Basis of Morphogenesis* (1952)\n",
   "id": "6db97811f6481b74"
  },
  {
   "cell_type": "code",
   "id": "initial_id",
   "metadata": {
    "collapsed": true,
    "ExecuteTime": {
     "end_time": "2024-10-04T11:31:37.626005Z",
     "start_time": "2024-10-04T11:31:37.251057Z"
    }
   },
   "source": [
    "import numpy as np\n",
    "from sympy import *\n",
    "from ipywidgets import interact, interactive, fixed, interact_manual\n",
    "import ipywidgets as widgets"
   ],
   "outputs": [],
   "execution_count": 2
  },
  {
   "metadata": {},
   "cell_type": "markdown",
   "source": [
    "# 3. Chemical Reaction\n",
    "Suppose the reaction\n",
    "$ A \\rightarrow B $\n",
    "is catalysed by G so we have\n",
    "$ A + G \\rightleftharpoons C \\rightarrow B + G $\n",
    "\n",
    "By the law of mass action,\n",
    "\n",
    "$\\frac{d[A]}{dt} = -k_1[A][G] + k_2[C] \\\\\n",
    "\\frac{d[B]}{dt} = k_3[C] \\\\\n",
    "\\frac{d[C]}{dt} = k_1[A][G]-k_2[C] -k_3[C] \\\\\n",
    "\\frac{d[G]}{dt} = -k_1[A][G] + k_2[C] + k_3[C] $\n",
    "\n",
    "reaction graph diagram here\n",
    "Turing points out we can simplify these kinetics if $k_3$ is small, so $ C \\rightarrow B + G $ is much slower than $A + G \\rightleftharpoons C$. In that case we have an approximate equilibrium where \n",
    "$\\frac{d[A]}{dt} \\approx \\frac{d[G]}{dt} \\approx 0 \\approx -k_1[A][G] + k_2[C]$\n",
    "\n",
    "so\n",
    "$[A][G] \\approx \\frac{k_2}{k_1}[C]$\n"
   ],
   "id": "46a5efa9d522c35"
  },
  {
   "metadata": {},
   "cell_type": "code",
   "outputs": [],
   "execution_count": null,
   "source": "z",
   "id": "cecc3e137be831a6"
  },
  {
   "metadata": {},
   "cell_type": "markdown",
   "source": [
    "## 4. The breakdown of symmetry and homogeneity\n",
    "dx = 5*X + 6*Y + 1"
   ],
   "id": "a45348577904830c"
  },
  {
   "metadata": {
    "ExecuteTime": {
     "end_time": "2024-10-04T11:31:37.782015Z",
     "start_time": "2024-10-04T11:31:37.779699Z"
    }
   },
   "cell_type": "code",
   "source": [
    "r = 1\n",
    "a=1; b=1; c=1; d=1\n",
    "mu = 1 ; nu = 1"
   ],
   "id": "d877c8c260328849",
   "outputs": [],
   "execution_count": 3
  },
  {
   "metadata": {},
   "cell_type": "markdown",
   "source": "$(p-a + \\mu s^2 / r^2)(p-d+ \\nu s^2 / r^2) = bc$",
   "id": "556eac0f66b88efb"
  },
  {
   "metadata": {
    "ExecuteTime": {
     "end_time": "2024-10-27T13:52:59.705793Z",
     "start_time": "2024-10-27T13:52:59.615926Z"
    }
   },
   "cell_type": "code",
   "source": [
    "p,A,B = symbols('p A B')\n",
    "C=D=1\n",
    "for theta in range(0,2*pi):\n",
    "    for s in range(-100,100):\n",
    "        p0,p1=solveset((p-a+mu*s**2/r**2)*(p-d+nu*s**2/r**2) - b * c,p)\n",
    "        (As,Bs),=linsolve([A*(p0-a+mu*s**2/r**2) - b*C,\n",
    "                           B*(p1-a+mu*s**2/r**2) - b*D], A,B)\n",
    "        x = As * np.sum(exp(p0*t) + Bs*exp(p1*t)*exp(i*s*theta))"
   ],
   "id": "8a81483a1565691",
   "outputs": [
    {
     "ename": "NameError",
     "evalue": "name 'symbols' is not defined",
     "output_type": "error",
     "traceback": [
      "\u001B[0;31m---------------------------------------------------------------------------\u001B[0m",
      "\u001B[0;31mNameError\u001B[0m                                 Traceback (most recent call last)",
      "Cell \u001B[0;32mIn[1], line 1\u001B[0m\n\u001B[0;32m----> 1\u001B[0m p,A,B \u001B[38;5;241m=\u001B[39m \u001B[43msymbols\u001B[49m(\u001B[38;5;124m'\u001B[39m\u001B[38;5;124mp A B\u001B[39m\u001B[38;5;124m'\u001B[39m)\n\u001B[1;32m      2\u001B[0m C\u001B[38;5;241m=\u001B[39mD\u001B[38;5;241m=\u001B[39m\u001B[38;5;241m1\u001B[39m\n\u001B[1;32m      3\u001B[0m \u001B[38;5;28;01mfor\u001B[39;00m theta \u001B[38;5;129;01min\u001B[39;00m \u001B[38;5;28mrange\u001B[39m(\u001B[38;5;241m0\u001B[39m,\u001B[38;5;241m2\u001B[39m\u001B[38;5;241m*\u001B[39mpi):\n",
      "\u001B[0;31mNameError\u001B[0m: name 'symbols' is not defined"
     ]
    }
   ],
   "execution_count": 1
  }
 ],
 "metadata": {
  "kernelspec": {
   "display_name": "Python 3",
   "language": "python",
   "name": "python3"
  },
  "language_info": {
   "codemirror_mode": {
    "name": "ipython",
    "version": 2
   },
   "file_extension": ".py",
   "mimetype": "text/x-python",
   "name": "python",
   "nbconvert_exporter": "python",
   "pygments_lexer": "ipython2",
   "version": "2.7.6"
  }
 },
 "nbformat": 4,
 "nbformat_minor": 5
}
