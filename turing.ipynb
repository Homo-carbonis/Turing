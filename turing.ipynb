{
 "cells": [
  {
   "cell_type": "markdown",
   "id": "6db97811f6481b74",
   "metadata": {},
   "source": [
    "# A computational companion to Alan Turing's paper *On the Chemical Basis of Morphogenesis* (1952)\n"
   ]
  },
  {
   "cell_type": "code",
   "id": "initial_id",
   "metadata": {
    "jupyter": {
     "is_executing": true
    }
   },
   "source": [
    "import numpy as np\n",
    "from scipy.optimize import root_scalar\n",
    "\n",
    "np.set_printoptions(formatter={'float_kind':\"{:.2f}\".format})\n",
    "from sympy import *\n",
    "from scipy.integrate import solve_ivp\n",
    "from scipy.optimize import fsolve\n",
    "import matplotlib.pyplot as plt\n",
    "import matplotlib.cm as cm\n",
    "%matplotlib notebook\n",
    "from ipywidgets import interactive\n",
    "import ipywidgets as widgets"
   ],
   "outputs": [],
   "execution_count": null
  },
  {
   "cell_type": "markdown",
   "id": "46a5efa9d522c35",
   "metadata": {},
   "source": [
    "# 3. Chemical Reaction\n",
    "Suppose the reaction\n",
    "$ A \\rightarrow B $\n",
    "is catalysed by G so we have\n",
    "$ A + G \\rightleftharpoons C \\rightarrow B + G $\n",
    "\n",
    "By the law of mass action,\n",
    "\n",
    "$\\begin{align}\n",
    "    \\frac{d[A]}{dt} &= -k_1[A][G] + k_2[C] \\\\\n",
    "    \\frac{d[B]}{dt} &= k_3[C] \\\\\n",
    "    \\frac{d[G]}{dt} &= -k_1[A][G] + k_2[C] + k_3[C] \\\\\n",
    "    \\frac{d[C]}{dt} &= k_1[A][G]-k_2[C] -k_3[C]\n",
    "\\end{align}$\n",
    "\n",
    "\n",
    "reaction graph diagram here\n",
    "\n",
    "Turing points out we can simplify these kinetics if $k_3$ is small, so $ C \\rightarrow B + G $ is much slower than $A + G \\rightleftharpoons C$.\n",
    "In that case we have an approximate equilibrium where \n",
    "$\\frac{d[A]}{dt} \\approx \\frac{d[G]}{dt} \\approx 0 \\approx -k_1[A][G] + k_2[C]$\n",
    "\n",
    "so\n",
    "$[A][G] \\approx \\frac{k_2}{k_1}[C]$\n",
    "\n",
    "and $\\frac{d[B]}{dt} = k_3[C] \\approx \\frac{k_1 k_3}{k_2}[A][G] $ \n",
    "\n",
    "The interactive plot below allows you to experiment with altering the parameters and initial concentrations of this system. Notice how when $k_2$ and $k_3$ are small almost all the catalyst is in the combined form so the reaction proceeds at rate determined by $[G]$ and independent of $[A]$."
   ]
  },
  {
   "cell_type": "code",
   "id": "cecc3e137be831a6",
   "metadata": {},
   "source": [
    "plt.close()\n",
    "ax = plt.subplot()\n",
    "def plot(k1,k2,k3,A0,G0):\n",
    "    def sys(t, y):\n",
    "        A, B, G, C = y\n",
    "        diffA = -k1 * A * G + k2 * C\n",
    "        diffB = k3 * C\n",
    "        diffG = diffA + diffB\n",
    "        diffC = -diffG\n",
    "        return np.array([diffA, diffB, diffG, diffC])\n",
    "    sol = solve_ivp(sys, (0, 50), (A0, 0, G0, 0), dense_output=True).sol\n",
    "    t=np.linspace(sol.t_max,sol.t_min,50)\n",
    "    y=sol(t)\n",
    "    ax.clear()\n",
    "    ax.set_ylim(0.0,1.0)\n",
    "    ax.plot(t,y[0], 'r-')\n",
    "    ax.plot(t,y[1], 'b-')\n",
    "    ax.plot(t,y[2], 'y--')\n",
    "    ax.plot(t,y[3], color='orange', linestyle='--')\n",
    "    ax.legend(('A: reactant', 'B: product', 'G: catalyst', 'C: intermediate'))\n",
    "    ax.xlabel('Time')\n",
    "    ax.ylabel('Concentration')\n",
    "    \n",
    "k1_slider = widgets.FloatSlider(description='$k_1$', max=5, step=0.01, value=0.8)\n",
    "k2_slider = widgets.FloatSlider(description='$k_2$', max=5, step=0.01, value=0)\n",
    "k3_slider = widgets.FloatSlider(description='$k_3$', max=5, step=0.01, value=0.1)\n",
    "A0_slider = widgets.FloatSlider(description='$[A]_0$', max=1, step=0.01, value=1.0)\n",
    "G0_slider = widgets.FloatSlider(description='$[G]_0$', max=1, step=0.01, value=0.2)\n",
    "#plt.close()\n",
    "interactive_plot=interactive(plot, k1=k1_slider, k2=k2_slider, k3=k3_slider, A0=A0_slider, G0=G0_slider)\n",
    "output = interactive_plot.children[-1]\n",
    "output.layout.height = '450px'\n",
    "interactive_plot\n"
   ],
   "outputs": [],
   "execution_count": null
  },
  {
   "cell_type": "markdown",
   "id": "a45348577904830c",
   "metadata": {},
   "source": [
    "## 4. The breakdown of symmetry and homogeneity\n",
    "Here a pair of cells containing similar concentrations of morphogens $X$ and $Y$ are in contact. The system is initially symmetrical - interchanging the cells results in the same dynamics.\n",
    "The morphogen $X$ is produced at the rate\n",
    "\n",
    "$5x -6y +1$\n",
    "\n",
    "and $Y$ at the rate\n",
    "\n",
    "$6x -7y +1$,\n",
    "\n",
    "where $x$ and $y$ are the concentrations of $X$ and $Y$.\n",
    "\n",
    "At the same time $X$ diffuses between the cells at the rate\n",
    "\n",
    "$0.5(x_1-x_2)$\n",
    "\n",
    "and $Y$ at the rate\n",
    "\n",
    "$4.5(y_1-y_2)$.\n",
    "\n",
    "Then we have\n",
    "\n",
    "$\\begin{align}\n",
    "    \\dot x_1 &= 5x_1 -6y_1 + 1 - 0.5(x_1-x_2) \\\\\n",
    "    \\dot x_2 &= 5x_2 -6y_2 + 1 + 0.5(x_1-x_2) \\\\\n",
    "    \\dot y_1 &= 6x_1 - 7y_1 + 1 - 4.5(y_1-y_2) \\\\\n",
    "    \\dot y_2 &= 6x_2 - 7y_2 + 1 + 4.5(y_1-y_2) \\\\\n",
    "\\end{align}$\n",
    "\n",
    "Symmetry persists only if the concentrations in the two cells remain exactly identical, a situation impossible in nature. Here we solve the above system of equations with a tiny random difference introduced between the initial conditions for each cell."
   ]
  },
  {
   "metadata": {},
   "cell_type": "code",
   "source": [
    "plt.close()\n",
    "ax = plt.subplot()\n",
    "Dx=0.5\n",
    "Dy=4.5\n",
    "I=0.2\n",
    "\n",
    "def symmetry_broken(t,y):\n",
    "    return np.abs(y[0]-y[1])-y[0]/2\n",
    "    \n",
    "# symmetry_broken.terminal = True\n",
    "\n",
    "rng = np.random.default_rng()\n",
    "y0 = rng.normal(1,0.0001,4)\n",
    "\n",
    "print(f\"x1 = {y0[0]}, x2 = {y0[1]}, y1 = {y0[2]}, y2 = {y0[3]}\")\n",
    "\n",
    "def plot(I):\n",
    "    A = np.array([[3+I-Dx, Dx,  -6.0,  0.0],\n",
    "                  [Dx,  3+I-Dx,   0.0, -6.0],\n",
    "                  [6.0,  0.0, -9+I-Dy,  Dy],\n",
    "                  [0.0,  6.0,   Dy, -9+I-Dy]])\n",
    "    B = np.array([I-1,I-1,-I+1,-I+1])\n",
    "    \n",
    "    print(f\"Eigenvalues: {np.real(np.linalg.eigvals(A)):.2f}\")\n",
    "\n",
    "    def sys(t, y):\n",
    "        dy = A @ y + B \n",
    "        # Don't let concentration go below zero.\n",
    "        return np.where(y>0, dy, np.maximum(0,dy))\n",
    "   \n",
    "    sol = solve_ivp(sys, (0, 6), y0, dense_output=True,\n",
    "                    events=symmetry_broken).sol\n",
    "    t=np.linspace(sol.t_max,sol.t_min,100)\n",
    "    y=sol(t)\n",
    "    ax.clear()\n",
    "    ax.plot(t,y[0], 'r-')\n",
    "    ax.plot(t,y[1], 'b-')\n",
    "    ax.legend(('x1', 'x2'))\n",
    "    ax.set_xlabel('Time')\n",
    "    ax.set_ylabel('Concentration');\n",
    "    \n",
    "I_slider = widgets.FloatSlider(description='$I$', min=-1, max=3, step=0.01, value=2.0)\n",
    "#plt.close()\n",
    "interactive_plot=interactive(plot, I=I_slider)\n",
    "output = interactive_plot.children[-1]\n",
    "output.layout.height = '450px'\n",
    "interactive_plot"
   ],
   "id": "67515da18fb3df51",
   "outputs": [],
   "execution_count": null
  },
  {
   "metadata": {},
   "cell_type": "markdown",
   "source": [
    "## 6. Reactions and diffusion in a ring of cells\n",
    "In this example $N$ cells are arranged in a ring. There are two morphogens $X$ and $Y$ as before, produced at rates $ax + by$ and $cx + dy$ respectively.\n",
    "\n",
    "For neighbouring cells, $X$ and $Y$ have diffusion coefficients of $\\mu$ and $\\nu$.\n",
    "\n",
    "This can be described by the set of equations\n",
    "\n",
    "$\\dot x_r = ax_r + by_r + \\mu(x_{r+1} - 2x_{r-1} + x_r) $\n",
    "\n",
    "$ \\dot y_r = cx_r + dy_r + \\nu(y_{r+1} - 2y_{r-1} + y_r) $\n",
    "\n",
    "for $r = 1,...,N$.\n",
    "\n",
    "The ring of cells if effectively an N-periodic sequence, so the equations can be solved exactly by taking the discrete fourier transform (DFT).\n",
    "\n",
    "$\\xi_r = \\sum_{s=1}^N x_s e^{-i 2 \\pi r s / N}$\n",
    "\n",
    "$\\eta_r = \\sum_{s=1}^N y_s e^{-i 2 \\pi r s / N}$\n",
    "\n",
    "Differentiating and substituting in $\\dot x$ and $\\dot y$ gives\n",
    "\n",
    "$\\dot \\xi_r = (a- 4 \\mu sin^2 \\frac{\\pi r}{N}) \\xi_r + b \\eta_r$\n",
    "\n",
    "$\\dot \\eta_r = (d- 4 \\nu sin^2 \\frac{\\pi r}{N})\\eta_r + c \\xi_r$\n",
    "\n",
    "These are pairs of linear differential equations which can be solved to give\n",
    "\n",
    "$ \\xi_s = A_s e^{p_st} + B_s e^{p_s' t} $\n",
    "\n",
    "$ \\eta_s = C_s e^{p_st} + D_s e^{p_s' t} $\n",
    "\n",
    "where\n",
    "$p_s$ and $p_s'$ are the roots of\n",
    "\n",
    "$(p -a+4\\mu sin^2 \\frac{\\pi s}{N})(p-d+4\\nu sin^2 \\frac{\\pi s}{N}) = bc$\n",
    "\n",
    "and $A_s, B_s, C_s, D_s$ are determined from the initial conditions so that\n",
    "\n",
    "$ A_s(p_s - a +4 \\mu sin^2 \\frac{\\pi s}{N}) = b C_s $\n",
    "\n",
    "$ B_s(p_s' - a +4 \\mu sin^2 \\frac{\\pi s}{N}) = b D_s $\n",
    "\n",
    "We can now take the reverse DFT to find the general solution:\n",
    "\n",
    "$ x_r = \\sum_{s=1}^N(A_s e^{p_s t} + B_s e^{p_s' t}) e^{i 2\\pi r s/N}$\n",
    "\n",
    "$ y_r = \\sum_{s=1}^N(C_s e^{p_s t} + D_s e^{p_s' t}) e^{i 2\\pi r s/N}$\n",
    "\n",
    "To find $A_s, B_s, C_s, D_s$ we set the inital conditions $x_0$ and $y_0$ and solve the linear equations\n",
    "\n",
    "$ x_{r0} = h + \\sum_{s=1}^N(A_s + B_s) e^{i 2\\pi r s/N}$\n",
    "\n",
    "$ y_{r0} = k + \\sum_{s=1}^N(C_s + D_s) e^{i 2\\pi r s/N}$\n",
    "\n",
    "$ A_s(p_s - a +4 \\mu sin^2 \\frac{\\pi s}{N}) = b C_s $\n",
    "\n",
    "$ B_s(p_s - a +4 \\mu sin^2 \\frac{\\pi s}{N}) = b D_s $"
   ],
   "id": "4f240876fcf7501f"
  },
  {
   "metadata": {
    "ExecuteTime": {
     "end_time": "2024-11-10T15:14:18.826482Z",
     "start_time": "2024-11-10T15:14:18.822838Z"
    }
   },
   "cell_type": "code",
   "source": "p,p_prime=fsolve(np.sin,[0,2])",
   "id": "fd701769e00347f0",
   "outputs": [],
   "execution_count": 70
  },
  {
   "metadata": {
    "ExecuteTime": {
     "end_time": "2024-11-10T17:39:23.879200Z",
     "start_time": "2024-11-10T17:39:23.873419Z"
    }
   },
   "cell_type": "code",
   "source": [
    "a=np.arange(3)\n",
    "b=np.arange(3)\n",
    "a+b\n",
    "2*a +b"
   ],
   "id": "84eec6136fa5201f",
   "outputs": [
    {
     "data": {
      "text/plain": [
       "[1, 2, 3, 1, 2, 3, 5, 6, 7]"
      ]
     },
     "execution_count": 78,
     "metadata": {},
     "output_type": "execute_result"
    }
   ],
   "execution_count": 78
  },
  {
   "metadata": {
    "ExecuteTime": {
     "end_time": "2024-11-10T18:05:28.273711Z",
     "start_time": "2024-11-10T18:05:28.243526Z"
    }
   },
   "cell_type": "code",
   "source": [
    "%matplotlib inline\n",
    "\n",
    "\n",
    "def plot_ring(x):\n",
    "    n = len(x)\n",
    "    theta = np.linspace(0, 2 * np.pi, n, endpoint=False)\n",
    "    width = 2 * np.pi / n\n",
    "\n",
    "    # Normalize values for coloring\n",
    "    norm = plt.Normalize(min(x), max(x))\n",
    "    colours = cm.viridis(norm(values))  # Colormap for the ring\n",
    "    fig, ax = plt.subplots(subplot_kw=dict(polar=True))\n",
    "    bars = ax.bar(theta, 1*n, width=width, color=colors, bottom=5*n)\n",
    "    ax.set_yticklabels([])  # Remove radial ticks\n",
    "    ax.set_xticks([])       # Remove angular ticks\n",
    "    ax.grid(False)\n",
    "    ax.spines['polar'].set_visible(False)  # Remove border\n",
    "    plt.show()\n",
    "    \n",
    "values = np.random.rand(N) \n",
    "plot_ring(values)\n",
    "N=20\n",
    "x0 = np.random.rand(N)\n",
    "y0 = np.random.rand(N) \n",
    "\n",
    "\n",
    "def plot(a,b,c,d,mu,nu):\n",
    "    s = np.arange(N)\n",
    "    p = a + 4 * mu *sin(pi * s/N)**2\n",
    "    p_prime = d+4 * nu * sin(pi * s/N)**2\n",
    "    # Build a matrix to solve the linear equations to find A,B,C,D\n",
    "    z = np.fromfunction(lambda s,r: np.exp(1j*2*pi*r*s/N), (N,N), dtype=complex)\n",
    "    q = p - a + 4 * mu * sin(pi * s/N)\n",
    "    q_prime = p_prime - a + 4 * mu * sin(pi * s/N)\n",
    "    mat = np.vstack((np.hstack((z,   z)),\n",
    "                     np.hstack((q*z/b, q_prime*z/b))))\n",
    "    ords = np.concatenate(x0,y0,np.zeros(2*N))\n",
    "    sol = np.linalg.solve(mat,ords)\n",
    "    A = sol[:N/2]\n",
    "    B = sol[N/2:]\n",
    "    C = q*A/b\n",
    "    D = q_prime*B/b\n",
    "    \n",
    "    x = np.fromfunction(lambda r: np.sum(A*np.exp(p*t)+B*np.exp(p_prime*t)*np.exp(1j*2*pi*r*s/N)), N)\n",
    "    y = np.fromfunction(lambda r: np.sum(C*np.exp(p*t)+D*np.exp(p_prime*t)*np.exp(1j*2*pi*r*s/N)), N)\n",
    "    plot_ring(x)\n",
    "for t in range(1000):\n",
    "    plot(t,0.7,0.5,0,2,0.5,1)"
   ],
   "id": "2d50508f479a6de8",
   "outputs": [
    {
     "ename": "TypeError",
     "evalue": "'function' object cannot be interpreted as an integer",
     "output_type": "error",
     "traceback": [
      "\u001B[1;31m---------------------------------------------------------------------------\u001B[0m",
      "\u001B[1;31mTypeError\u001B[0m                                 Traceback (most recent call last)",
      "Cell \u001B[1;32mIn[82], line 20\u001B[0m\n\u001B[0;32m     17\u001B[0m     ax\u001B[38;5;241m.\u001B[39mspines[\u001B[38;5;124m'\u001B[39m\u001B[38;5;124mpolar\u001B[39m\u001B[38;5;124m'\u001B[39m]\u001B[38;5;241m.\u001B[39mset_visible(\u001B[38;5;28;01mFalse\u001B[39;00m)  \u001B[38;5;66;03m# Remove border\u001B[39;00m\n\u001B[0;32m     18\u001B[0m     plt\u001B[38;5;241m.\u001B[39mshow()\n\u001B[1;32m---> 20\u001B[0m values \u001B[38;5;241m=\u001B[39m \u001B[43mnp\u001B[49m\u001B[38;5;241;43m.\u001B[39;49m\u001B[43mrandom\u001B[49m\u001B[38;5;241;43m.\u001B[39;49m\u001B[43mrand\u001B[49m\u001B[43m(\u001B[49m\u001B[43mN\u001B[49m\u001B[43m)\u001B[49m \n\u001B[0;32m     21\u001B[0m plot_ring(values)\n\u001B[0;32m     22\u001B[0m N\u001B[38;5;241m=\u001B[39m\u001B[38;5;241m20\u001B[39m\n",
      "File \u001B[1;32mnumpy\\\\random\\\\mtrand.pyx:1242\u001B[0m, in \u001B[0;36mnumpy.random.mtrand.RandomState.rand\u001B[1;34m()\u001B[0m\n",
      "File \u001B[1;32mnumpy\\\\random\\\\mtrand.pyx:441\u001B[0m, in \u001B[0;36mnumpy.random.mtrand.RandomState.random_sample\u001B[1;34m()\u001B[0m\n",
      "File \u001B[1;32m_common.pyx:312\u001B[0m, in \u001B[0;36mnumpy.random._common.double_fill\u001B[1;34m()\u001B[0m\n",
      "\u001B[1;31mTypeError\u001B[0m: 'function' object cannot be interpreted as an integer"
     ]
    }
   ],
   "execution_count": 82
  },
  {
   "metadata": {},
   "cell_type": "code",
   "outputs": [],
   "execution_count": null,
   "source": "",
   "id": "a9a8c1c278811772"
  }
 ],
 "metadata": {
  "kernelspec": {
   "display_name": "Python 3 (ipykernel)",
   "language": "python",
   "name": "python3"
  },
  "language_info": {
   "codemirror_mode": {
    "name": "ipython",
    "version": 3
   },
   "file_extension": ".py",
   "mimetype": "text/x-python",
   "name": "python",
   "nbconvert_exporter": "python",
   "pygments_lexer": "ipython3",
   "version": "3.12.6"
  }
 },
 "nbformat": 4,
 "nbformat_minor": 5
}
